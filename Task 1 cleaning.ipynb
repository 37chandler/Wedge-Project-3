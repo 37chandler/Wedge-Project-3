{
 "cells": [
  {
   "cell_type": "markdown",
   "metadata": {},
   "source": [
    "Google Big Query is a distributed data warehouse built on a serverless architecture . We’ll discuss this framework in class. In this task you’ll upload all Wedge transaction records to Google Big Query. You’ll want to make sure that the column data types are correctly specified and you’ve properly handled the null values."
   ]
  },
  {
   "cell_type": "code",
   "execution_count": 1,
   "metadata": {},
   "outputs": [],
   "source": [
    "import os\n",
    "import zipfile"
   ]
  },
  {
   "cell_type": "code",
   "execution_count": null,
   "metadata": {},
   "outputs": [],
   "source": [
    "folder_path = 'Data\\clean-files'\n",
    "data_types = {\n",
    "    'datetime': 'str',\n",
    "    'register_no': 'Int64',\n",
    "    'emp_no': 'Int64',\n",
    "    'trans_no': 'Int64',\n",
    "    'upc': 'str',\n",
    "    'description': 'str',\n",
    "    'trans_type': 'str',\n",
    "    'trans_subtype': 'str',\n",
    "    'trans_status': 'str',\n",
    "    'department': 'Int64',\n",
    "    'quantity': 'Float64',\n",
    "    'Scale': 'Int64',\n",
    "    'cost': 'Float64',\n",
    "    'unitPrice': 'Float64',\n",
    "    'total': 'Float64',\n",
    "    'regprice': 'Float64',\n",
    "    'altprice': 'Float64',\n",
    "    'tax': 'Int64',\n",
    "    'taxexempt': 'Int64',\n",
    "    'foodstamp': 'Int64',\n",
    "    'wicable': 'Int64',\n",
    "    'discount': 'Float64',\n",
    "    'memDiscount': 'Float64',\n",
    "    'discountable': 'Int64',\n",
    "    'discounttype': 'Int64',\n",
    "    'voided': 'Int64',\n",
    "    'percentDiscount': 'Float64',\n",
    "    'ItemQtty': 'Float64',\n",
    "    'volDiscType': 'Int64',\n",
    "    'volume': 'Int64',\n",
    "    'VolSpecial': 'Float64',\n",
    "    'mixMatch': 'Int64',\n",
    "    'matched': 'Int64',\n",
    "    'memType': 'Float64',\n",
    "    'staff': 'Int64',\n",
    "    'numflag': 'Int64',\n",
    "    'itemstatus': 'Int64',\n",
    "    'tenderstatus': 'Int64',\n",
    "    'charflag': 'str',\n",
    "    'varflag': 'Int64',\n",
    "    'batchHeaderID': 'Float64',\n",
    "    'local': 'Int64',\n",
    "    'organic': 'Float64',\n",
    "    'display': 'Float64',\n",
    "    'receipt': 'Int64',\n",
    "    'card_no': 'Int64',\n",
    "    'store': 'Int64',\n",
    "    'branch': 'Int64',\n",
    "    'match_id': 'Int64',\n",
    "    'trans_id': 'Int64',\n",
    "\n",
    "}\n",
    "\n",
    "dataframes = {}\n",
    "\n",
    "for filename in os.listdir(folder_path):\n",
    "    if filename.endswith('.csv'):  # or whatever file type your datasets are\n",
    "        file_path = os.path.join(folder_path, filename)\n",
    "        dataframes[filename] = pd.read_csv(file_path, dtype=data_types)"
   ]
  }
 ],
 "metadata": {
  "kernelspec": {
   "display_name": "Python 3",
   "language": "python",
   "name": "python3"
  },
  "language_info": {
   "codemirror_mode": {
    "name": "ipython",
    "version": 3
   },
   "file_extension": ".py",
   "mimetype": "text/x-python",
   "name": "python",
   "nbconvert_exporter": "python",
   "pygments_lexer": "ipython3",
   "version": "3.10.4"
  }
 },
 "nbformat": 4,
 "nbformat_minor": 2
}
