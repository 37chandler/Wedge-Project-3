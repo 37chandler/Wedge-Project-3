{
 "cells": [
  {
   "cell_type": "code",
   "execution_count": 1,
   "metadata": {},
   "outputs": [],
   "source": [
    "import pandas as pd\n",
    "import zipfile\n",
    "from google.cloud import bigquery\n",
    "from google.oauth2 import service_account\n",
    "from google.api_core.exceptions import NotFound\n",
    "import os"
   ]
  },
  {
   "cell_type": "code",
   "execution_count": 2,
   "metadata": {},
   "outputs": [],
   "source": [
    "#export GOOGLE_APPLICATION_CREDENTIALS='wedge-project-403222-85fe5b35980b.json'\n",
    "\n",
    "service_path = \"\"\n",
    "service_file = 'wedge-project-403222-80aeb3085a6a.json' # change this to your authentication information  \n",
    "\n",
    "gbq_proj_id = 'wedge-project-403222'  \n",
    "\n",
    "# And this should stay the same. \n",
    "private_key = service_path + service_file\n",
    "\n",
    "# Now we pass in our credentials so that Python has permission to access our project.\n",
    "credentials = service_account.Credentials.from_service_account_file(private_key)\n",
    "\n",
    "# And finally we establish our connection\n",
    "client = bigquery.Client(credentials = credentials, project=gbq_proj_id)"
   ]
  },
  {
   "cell_type": "code",
   "execution_count": 3,
   "metadata": {},
   "outputs": [
    {
     "name": "stdout",
     "output_type": "stream",
     "text": [
      "Dataset reuploaded_transactions already exists.\n"
     ]
    }
   ],
   "source": [
    "# Check if the dataset exists\n",
    "dataset_id = 'reuploaded_transactions'\n",
    "dataset_ref = client.dataset(dataset_id)\n",
    "\n",
    "try:\n",
    "    client.get_dataset(dataset_ref)\n",
    "    print(f\"Dataset {dataset_id} already exists.\")\n",
    "except NotFound:\n",
    "    # Create the dataset if it does not exist\n",
    "    dataset = bigquery.Dataset(dataset_ref)\n",
    "    dataset = client.create_dataset(dataset)\n",
    "    print(f\"Dataset {dataset_id} created.\")"
   ]
  },
  {
   "cell_type": "code",
   "execution_count": 4,
   "metadata": {},
   "outputs": [
    {
     "name": "stdout",
     "output_type": "stream",
     "text": [
      "Uploaded transArchive_201001_201003_clean.csv to wedge-project-403222.reuploaded_transactions.transArchive_201001_201003_clean\n",
      "Uploaded transArchive_201004_201006_clean.csv to wedge-project-403222.reuploaded_transactions.transArchive_201004_201006_clean\n",
      "Uploaded transArchive_201007_201009_clean.csv to wedge-project-403222.reuploaded_transactions.transArchive_201007_201009_clean\n",
      "Uploaded transArchive_201010_201012_clean.csv to wedge-project-403222.reuploaded_transactions.transArchive_201010_201012_clean\n",
      "Uploaded transArchive_201101_201103_clean.csv to wedge-project-403222.reuploaded_transactions.transArchive_201101_201103_clean\n",
      "Uploaded transArchive_201104_clean.csv to wedge-project-403222.reuploaded_transactions.transArchive_201104_clean\n",
      "Uploaded transArchive_201105_clean.csv to wedge-project-403222.reuploaded_transactions.transArchive_201105_clean\n",
      "Uploaded transArchive_201106_clean.csv to wedge-project-403222.reuploaded_transactions.transArchive_201106_clean\n",
      "Uploaded transArchive_201107_201109_clean.csv to wedge-project-403222.reuploaded_transactions.transArchive_201107_201109_clean\n",
      "Uploaded transArchive_201110_201112_clean.csv to wedge-project-403222.reuploaded_transactions.transArchive_201110_201112_clean\n",
      "Uploaded transArchive_201201_201203_clean.csv to wedge-project-403222.reuploaded_transactions.transArchive_201201_201203_clean\n",
      "Uploaded transArchive_201201_201203_inactive_clean.csv to wedge-project-403222.reuploaded_transactions.transArchive_201201_201203_inactive_clean\n",
      "Uploaded transArchive_201204_201206_clean.csv to wedge-project-403222.reuploaded_transactions.transArchive_201204_201206_clean\n",
      "Uploaded transArchive_201204_201206_inactive_clean.csv to wedge-project-403222.reuploaded_transactions.transArchive_201204_201206_inactive_clean\n",
      "Uploaded transArchive_201207_201209_clean.csv to wedge-project-403222.reuploaded_transactions.transArchive_201207_201209_clean\n",
      "Uploaded transArchive_201207_201209_inactive_clean.csv to wedge-project-403222.reuploaded_transactions.transArchive_201207_201209_inactive_clean\n",
      "Uploaded transArchive_201210_201212_clean.csv to wedge-project-403222.reuploaded_transactions.transArchive_201210_201212_clean\n",
      "Uploaded transArchive_201210_201212_inactive_clean.csv to wedge-project-403222.reuploaded_transactions.transArchive_201210_201212_inactive_clean\n",
      "Uploaded transArchive_201301_201303_clean.csv to wedge-project-403222.reuploaded_transactions.transArchive_201301_201303_clean\n",
      "Uploaded transArchive_201301_201303_inactive_clean.csv to wedge-project-403222.reuploaded_transactions.transArchive_201301_201303_inactive_clean\n",
      "Uploaded transArchive_201304_201306_clean.csv to wedge-project-403222.reuploaded_transactions.transArchive_201304_201306_clean\n",
      "Uploaded transArchive_201304_201306_inactive_clean.csv to wedge-project-403222.reuploaded_transactions.transArchive_201304_201306_inactive_clean\n",
      "Uploaded transArchive_201307_201309_clean.csv to wedge-project-403222.reuploaded_transactions.transArchive_201307_201309_clean\n",
      "Uploaded transArchive_201307_201309_inactive_clean.csv to wedge-project-403222.reuploaded_transactions.transArchive_201307_201309_inactive_clean\n",
      "Uploaded transArchive_201310_201312_clean.csv to wedge-project-403222.reuploaded_transactions.transArchive_201310_201312_clean\n",
      "Uploaded transArchive_201310_201312_inactive_clean.csv to wedge-project-403222.reuploaded_transactions.transArchive_201310_201312_inactive_clean\n",
      "Uploaded transArchive_201401_201403_clean.csv to wedge-project-403222.reuploaded_transactions.transArchive_201401_201403_clean\n",
      "Uploaded transArchive_201401_201403_inactive_clean.csv to wedge-project-403222.reuploaded_transactions.transArchive_201401_201403_inactive_clean\n",
      "Uploaded transArchive_201404_201406_clean.csv to wedge-project-403222.reuploaded_transactions.transArchive_201404_201406_clean\n",
      "Uploaded transArchive_201404_201406_inactive_clean.csv to wedge-project-403222.reuploaded_transactions.transArchive_201404_201406_inactive_clean\n",
      "Uploaded transArchive_201407_201409_clean.csv to wedge-project-403222.reuploaded_transactions.transArchive_201407_201409_clean\n",
      "Uploaded transArchive_201407_201409_inactive_clean.csv to wedge-project-403222.reuploaded_transactions.transArchive_201407_201409_inactive_clean\n",
      "Uploaded transArchive_201410_201412_clean.csv to wedge-project-403222.reuploaded_transactions.transArchive_201410_201412_clean\n",
      "Uploaded transArchive_201410_201412_inactive_clean.csv to wedge-project-403222.reuploaded_transactions.transArchive_201410_201412_inactive_clean\n",
      "Uploaded transArchive_201501_201503_clean.csv to wedge-project-403222.reuploaded_transactions.transArchive_201501_201503_clean\n",
      "Uploaded transArchive_201504_201506_clean.csv to wedge-project-403222.reuploaded_transactions.transArchive_201504_201506_clean\n",
      "Uploaded transArchive_201507_201509_clean.csv to wedge-project-403222.reuploaded_transactions.transArchive_201507_201509_clean\n",
      "Uploaded transArchive_201510_clean.csv to wedge-project-403222.reuploaded_transactions.transArchive_201510_clean\n",
      "Uploaded transArchive_201511_clean.csv to wedge-project-403222.reuploaded_transactions.transArchive_201511_clean\n",
      "Uploaded transArchive_201512_clean.csv to wedge-project-403222.reuploaded_transactions.transArchive_201512_clean\n",
      "Uploaded transArchive_201601_clean.csv to wedge-project-403222.reuploaded_transactions.transArchive_201601_clean\n",
      "Uploaded transArchive_201602_clean.csv to wedge-project-403222.reuploaded_transactions.transArchive_201602_clean\n",
      "Uploaded transArchive_201603_clean.csv to wedge-project-403222.reuploaded_transactions.transArchive_201603_clean\n",
      "Uploaded transArchive_201604_clean.csv to wedge-project-403222.reuploaded_transactions.transArchive_201604_clean\n",
      "Uploaded transArchive_201605_clean.csv to wedge-project-403222.reuploaded_transactions.transArchive_201605_clean\n",
      "Uploaded transArchive_201606_clean.csv to wedge-project-403222.reuploaded_transactions.transArchive_201606_clean\n",
      "Uploaded transArchive_201607_clean.csv to wedge-project-403222.reuploaded_transactions.transArchive_201607_clean\n",
      "Uploaded transArchive_201608_clean.csv to wedge-project-403222.reuploaded_transactions.transArchive_201608_clean\n",
      "Uploaded transArchive_201609_clean.csv to wedge-project-403222.reuploaded_transactions.transArchive_201609_clean\n",
      "Uploaded transArchive_201610_clean.csv to wedge-project-403222.reuploaded_transactions.transArchive_201610_clean\n",
      "Uploaded transArchive_201611_clean.csv to wedge-project-403222.reuploaded_transactions.transArchive_201611_clean\n",
      "Uploaded transArchive_201612_clean.csv to wedge-project-403222.reuploaded_transactions.transArchive_201612_clean\n",
      "Uploaded transArchive_201701_clean.csv to wedge-project-403222.reuploaded_transactions.transArchive_201701_clean\n"
     ]
    }
   ],
   "source": [
    "# Path to the directory where files are extracted\n",
    "files_path = 'Data\\clean-files' # Update this to your path\n",
    "\n",
    "# Loop through the files and upload each to BigQuery\n",
    "for filename in os.listdir(files_path):\n",
    "    if filename.endswith('.csv'):  # Assuming files are in CSV format\n",
    " \n",
    "        file_path = os.path.join(files_path, filename)\n",
    "        dataframe = pd.read_csv(file_path, low_memory=False)\n",
    "\n",
    "        project_id = 'wedge-project-403222'\n",
    "        dataset_id = 'reuploaded_transactions'\n",
    "        table_id = os.path.splitext(filename)[0]\n",
    "\n",
    "        # Define the full table ID\n",
    "        table_full_id = f\"{client.project}.{dataset_id}.{table_id}\"\n",
    "\n",
    "        # If the table does not exist, it will be created. \n",
    "        job = client.load_table_from_dataframe(dataframe, table_full_id)\n",
    "\n",
    "        # Wait for the job to complete\n",
    "        job.result()\n",
    "        print(f\"Uploaded {filename} to {table_full_id}\")"
   ]
  }
 ],
 "metadata": {
  "kernelspec": {
   "display_name": "Python 3",
   "language": "python",
   "name": "python3"
  },
  "language_info": {
   "codemirror_mode": {
    "name": "ipython",
    "version": 3
   },
   "file_extension": ".py",
   "mimetype": "text/x-python",
   "name": "python",
   "nbconvert_exporter": "python",
   "pygments_lexer": "ipython3",
   "version": "3.10.4"
  }
 },
 "nbformat": 4,
 "nbformat_minor": 2
}
