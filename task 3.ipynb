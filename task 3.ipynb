{
 "cells": [
  {
   "cell_type": "markdown",
   "metadata": {},
   "source": [
    "It is useful to have summary files that allow you to quickly answer questions such as the following:\n",
    "•\tHow have our sales-by-day changed over the last few months?\n",
    "•\tWhat is our most popular item in each department?\n",
    "•\tWhich owners spend the most per month in each department?\n",
    "The classic way to structure data to answer these questions is in a relational database. In this task, you will build the summary text files that hold this data and populate a relational database with the data.\n",
    "Input\n",
    "You will process your owner records in GBQ to build the summary tables.\n",
    "Output\n",
    "For this task, you will build a single SQLite database via Python (in a .db file) containing three tables:\n",
    "1.\tSales by date by hour: By calendar date (YYYY-MM-DD) and hour of the day, determine the total spend in the store, the number of transactions, and a count of the number of items . \n",
    "2.\tSales by owner by year by month: A file that has the following columns: card_no, year, month, sales, transactions, and items. \n",
    "3.\tSales by product description by year by month: A file that has the following columns: upc, description, department number, department name, year, month, sales, transactions, and items.\n",
    "You will submit your Python code that builds the database. \n",
    "You are welcome to generate these tables via queries in Google Big Query, export the text files, and store them locally on your machine. Then you will need to write a Python script that creates the database, creates the tables, and fills those tables. Obviously, it’d be great to do the whole thing in Python. \n"
   ]
  },
  {
   "cell_type": "code",
   "execution_count": 1,
   "metadata": {},
   "outputs": [],
   "source": [
    "import os\n",
    "import pandas as pd\n",
    "import numpy as np\n",
    "import pandas_gbq\n",
    "import sqlite3\n",
    "import db_dtypes\n",
    "\n",
    "# Do our imports for the code\n",
    "from google.cloud import bigquery\n",
    "from google.oauth2 import service_account"
   ]
  },
  {
   "cell_type": "code",
   "execution_count": 2,
   "metadata": {},
   "outputs": [
    {
     "name": "stdout",
     "output_type": "stream",
     "text": [
      "umt-msba:dram_shop\n",
      "umt-msba:transactions\n",
      "umt-msba:wedge_example\n",
      "umt-msba:wedge_transactions\n"
     ]
    }
   ],
   "source": [
    "# These first two values will be different on your machine. \n",
    "service_path = \"\"\n",
    "service_file = 'umt-msba-gg-key.json' # change this to your authentication information  \n",
    "\n",
    "gbq_proj_id = 'umt-msba'  \n",
    "\n",
    "# And this should stay the same. \n",
    "private_key = service_path + service_file\n",
    "\n",
    "# Now we pass in our credentials so that Python has permission to access our project.\n",
    "credentials = service_account.Credentials.from_service_account_file(private_key)\n",
    "\n",
    "# And finally we establish our connection\n",
    "client = bigquery.Client(credentials = credentials, project=gbq_proj_id)\n",
    "\n",
    "for item in client.list_datasets() : \n",
    "    print(item.full_dataset_id)"
   ]
  },
  {
   "cell_type": "code",
   "execution_count": 3,
   "metadata": {},
   "outputs": [],
   "source": [
    "con = sqlite3.connect('reporting.db')"
   ]
  },
  {
   "cell_type": "code",
   "execution_count": 4,
   "metadata": {},
   "outputs": [],
   "source": [
    "query = \"\"\"\n",
    "    SELECT\n",
    "  extract(date from datetime) AS Date,\n",
    "  extract(hour from datetime) AS Hour,\n",
    "  Round(SUM(total)) AS Spend,\n",
    "  SUM(CASE When trans_status in (\"V\", \"R\") then -1 else 1 end) AS Items,\n",
    "\n",
    "  COUNT(Distinct(\n",
    "    CONCAT(\n",
    "      extract(date from datetime), \n",
    "      register_no,\n",
    "      emp_no,\n",
    "      trans_no\n",
    "    )\n",
    "  )) AS trans\n",
    "\n",
    "\n",
    "FROM\n",
    "  `umt-msba.transactions.transArchive_*`\n",
    "WHERE\n",
    "  department NOT IN (0,\n",
    "    15)\n",
    "  AND (trans_status IS NULL\n",
    "    OR trans_status IN (\"V\",\n",
    "      \"R\",\n",
    "      \" \"))\n",
    "Group BY Date, Hour\n",
    "ORDER BY Date, Hour\n",
    "\n",
    "\"\"\""
   ]
  },
  {
   "cell_type": "code",
   "execution_count": 5,
   "metadata": {},
   "outputs": [
    {
     "name": "stdout",
     "output_type": "stream",
     "text": [
      "Downloading: 100%|\u001b[32m██████████\u001b[0m|\n"
     ]
    }
   ],
   "source": [
    "holder = pandas_gbq.read_gbq(query,project_id=gbq_proj_id,credentials=credentials)"
   ]
  },
  {
   "cell_type": "code",
   "execution_count": 6,
   "metadata": {},
   "outputs": [
    {
     "data": {
      "text/html": [
       "<div>\n",
       "<style scoped>\n",
       "    .dataframe tbody tr th:only-of-type {\n",
       "        vertical-align: middle;\n",
       "    }\n",
       "\n",
       "    .dataframe tbody tr th {\n",
       "        vertical-align: top;\n",
       "    }\n",
       "\n",
       "    .dataframe thead th {\n",
       "        text-align: right;\n",
       "    }\n",
       "</style>\n",
       "<table border=\"1\" class=\"dataframe\">\n",
       "  <thead>\n",
       "    <tr style=\"text-align: right;\">\n",
       "      <th></th>\n",
       "      <th>Date</th>\n",
       "      <th>Hour</th>\n",
       "      <th>Spend</th>\n",
       "      <th>Items</th>\n",
       "      <th>trans</th>\n",
       "    </tr>\n",
       "  </thead>\n",
       "  <tbody>\n",
       "    <tr>\n",
       "      <th>0</th>\n",
       "      <td>2010-01-01</td>\n",
       "      <td>9</td>\n",
       "      <td>1006.0</td>\n",
       "      <td>245</td>\n",
       "      <td>36</td>\n",
       "    </tr>\n",
       "    <tr>\n",
       "      <th>1</th>\n",
       "      <td>2010-01-01</td>\n",
       "      <td>10</td>\n",
       "      <td>3129.0</td>\n",
       "      <td>913</td>\n",
       "      <td>82</td>\n",
       "    </tr>\n",
       "    <tr>\n",
       "      <th>2</th>\n",
       "      <td>2010-01-01</td>\n",
       "      <td>11</td>\n",
       "      <td>4002.0</td>\n",
       "      <td>1108</td>\n",
       "      <td>118</td>\n",
       "    </tr>\n",
       "    <tr>\n",
       "      <th>3</th>\n",
       "      <td>2010-01-01</td>\n",
       "      <td>12</td>\n",
       "      <td>3887.0</td>\n",
       "      <td>1143</td>\n",
       "      <td>124</td>\n",
       "    </tr>\n",
       "    <tr>\n",
       "      <th>4</th>\n",
       "      <td>2010-01-01</td>\n",
       "      <td>13</td>\n",
       "      <td>4655.0</td>\n",
       "      <td>1365</td>\n",
       "      <td>154</td>\n",
       "    </tr>\n",
       "  </tbody>\n",
       "</table>\n",
       "</div>"
      ],
      "text/plain": [
       "         Date  Hour   Spend  Items  trans\n",
       "0  2010-01-01     9  1006.0    245     36\n",
       "1  2010-01-01    10  3129.0    913     82\n",
       "2  2010-01-01    11  4002.0   1108    118\n",
       "3  2010-01-01    12  3887.0   1143    124\n",
       "4  2010-01-01    13  4655.0   1365    154"
      ]
     },
     "execution_count": 6,
     "metadata": {},
     "output_type": "execute_result"
    }
   ],
   "source": [
    "holder.head()"
   ]
  },
  {
   "cell_type": "code",
   "execution_count": 7,
   "metadata": {},
   "outputs": [
    {
     "data": {
      "text/plain": [
       "39330"
      ]
     },
     "execution_count": 7,
     "metadata": {},
     "output_type": "execute_result"
    }
   ],
   "source": [
    "holder.to_sql(\"date_hour\",con,if_exists=\"replace\",index=False)"
   ]
  },
  {
   "cell_type": "code",
   "execution_count": 8,
   "metadata": {},
   "outputs": [],
   "source": [
    "#Sales by owner by year by month: A file that has the following columns: card_no, year, month, sales, transactions, and items.\n",
    "query_2 = '''\n",
    "Select\n",
    "  card_no,\n",
    "  extract(year from datetime) AS year,\n",
    "  extract(month from datetime) AS month,\n",
    "  Round(SUM(total)) AS Sales,\n",
    "  SUM(CASE When trans_status in (\"V\", \"R\") then -1 else 1 end) AS Items,\n",
    "\n",
    "  COUNT(Distinct(\n",
    "    CONCAT(\n",
    "      extract(date from datetime), \n",
    "      register_no,\n",
    "      emp_no,\n",
    "      trans_no\n",
    "    )\n",
    "  )) AS trans\n",
    "\n",
    "FROM\n",
    "  `umt-msba.transactions.transArchive_*`\n",
    "Group by card_no, year, month\n",
    "Order by card_no\n",
    "\n",
    "\n",
    "\n",
    "'''"
   ]
  },
  {
   "cell_type": "code",
   "execution_count": 9,
   "metadata": {},
   "outputs": [
    {
     "name": "stdout",
     "output_type": "stream",
     "text": [
      "Downloading: 100%|\u001b[32m██████████\u001b[0m|\n"
     ]
    },
    {
     "data": {
      "text/html": [
       "<div>\n",
       "<style scoped>\n",
       "    .dataframe tbody tr th:only-of-type {\n",
       "        vertical-align: middle;\n",
       "    }\n",
       "\n",
       "    .dataframe tbody tr th {\n",
       "        vertical-align: top;\n",
       "    }\n",
       "\n",
       "    .dataframe thead th {\n",
       "        text-align: right;\n",
       "    }\n",
       "</style>\n",
       "<table border=\"1\" class=\"dataframe\">\n",
       "  <thead>\n",
       "    <tr style=\"text-align: right;\">\n",
       "      <th></th>\n",
       "      <th>card_no</th>\n",
       "      <th>year</th>\n",
       "      <th>month</th>\n",
       "      <th>Sales</th>\n",
       "      <th>Items</th>\n",
       "      <th>trans</th>\n",
       "    </tr>\n",
       "  </thead>\n",
       "  <tbody>\n",
       "    <tr>\n",
       "      <th>0</th>\n",
       "      <td>3.0</td>\n",
       "      <td>2016</td>\n",
       "      <td>10</td>\n",
       "      <td>0.0</td>\n",
       "      <td>226859</td>\n",
       "      <td>26939</td>\n",
       "    </tr>\n",
       "    <tr>\n",
       "      <th>1</th>\n",
       "      <td>3.0</td>\n",
       "      <td>2012</td>\n",
       "      <td>2</td>\n",
       "      <td>0.0</td>\n",
       "      <td>263393</td>\n",
       "      <td>25127</td>\n",
       "    </tr>\n",
       "    <tr>\n",
       "      <th>2</th>\n",
       "      <td>3.0</td>\n",
       "      <td>2014</td>\n",
       "      <td>10</td>\n",
       "      <td>0.0</td>\n",
       "      <td>240412</td>\n",
       "      <td>24871</td>\n",
       "    </tr>\n",
       "    <tr>\n",
       "      <th>3</th>\n",
       "      <td>3.0</td>\n",
       "      <td>2015</td>\n",
       "      <td>12</td>\n",
       "      <td>0.0</td>\n",
       "      <td>212741</td>\n",
       "      <td>23997</td>\n",
       "    </tr>\n",
       "    <tr>\n",
       "      <th>4</th>\n",
       "      <td>3.0</td>\n",
       "      <td>2011</td>\n",
       "      <td>11</td>\n",
       "      <td>0.0</td>\n",
       "      <td>261003</td>\n",
       "      <td>25567</td>\n",
       "    </tr>\n",
       "  </tbody>\n",
       "</table>\n",
       "</div>"
      ],
      "text/plain": [
       "   card_no  year  month  Sales   Items  trans\n",
       "0      3.0  2016     10    0.0  226859  26939\n",
       "1      3.0  2012      2    0.0  263393  25127\n",
       "2      3.0  2014     10    0.0  240412  24871\n",
       "3      3.0  2015     12    0.0  212741  23997\n",
       "4      3.0  2011     11    0.0  261003  25567"
      ]
     },
     "execution_count": 9,
     "metadata": {},
     "output_type": "execute_result"
    }
   ],
   "source": [
    "holder2 = pandas_gbq.read_gbq(query_2,project_id=gbq_proj_id,credentials=credentials)\n",
    "\n",
    "holder2.head()"
   ]
  },
  {
   "cell_type": "code",
   "execution_count": 10,
   "metadata": {},
   "outputs": [
    {
     "data": {
      "text/plain": [
       "810178"
      ]
     },
     "execution_count": 10,
     "metadata": {},
     "output_type": "execute_result"
    }
   ],
   "source": [
    "holder2.to_sql(\"owner_sales\",con,if_exists=\"replace\",index=False)"
   ]
  },
  {
   "cell_type": "code",
   "execution_count": 11,
   "metadata": {},
   "outputs": [],
   "source": [
    "#Sales by product description by year by month: \n",
    "# A file that has the following columns: upc, description, department number, department name, year, month, sales, transactions, and items.\n",
    "\n",
    "query_3 = \"\"\"\n",
    "SELECT\n",
    "  t.upc\n",
    "  ,t.description\n",
    "  ,t.department\n",
    "  ,d.dept_name\n",
    "  ,extract(year from datetime) AS year\n",
    "  ,extract(month from datetime) As month\n",
    "  ,Round(sum(total),2) As sales\n",
    "  ,SUM(CASE When trans_status in (\"V\", \"R\") then -1 else 1 end) AS Items\n",
    "  ,COUNT(Distinct(\n",
    "    CONCAT(\n",
    "      extract(date from datetime), \n",
    "      register_no,\n",
    "      emp_no,\n",
    "      trans_no\n",
    "    )\n",
    "  )) AS trans\n",
    "\n",
    "FROM `umt-msba.transactions.transArchive_*` AS t\n",
    "Join `transactions.department_lookup` AS d \n",
    "On t.department = d.department\n",
    "Group BY t.upc, t.description, t.department, d.dept_name, year, month\n",
    "\n",
    "\n",
    "\"\"\""
   ]
  },
  {
   "cell_type": "code",
   "execution_count": 12,
   "metadata": {},
   "outputs": [
    {
     "name": "stdout",
     "output_type": "stream",
     "text": [
      "Downloading: 100%|\u001b[32m██████████\u001b[0m|\n"
     ]
    },
    {
     "data": {
      "text/html": [
       "<div>\n",
       "<style scoped>\n",
       "    .dataframe tbody tr th:only-of-type {\n",
       "        vertical-align: middle;\n",
       "    }\n",
       "\n",
       "    .dataframe tbody tr th {\n",
       "        vertical-align: top;\n",
       "    }\n",
       "\n",
       "    .dataframe thead th {\n",
       "        text-align: right;\n",
       "    }\n",
       "</style>\n",
       "<table border=\"1\" class=\"dataframe\">\n",
       "  <thead>\n",
       "    <tr style=\"text-align: right;\">\n",
       "      <th></th>\n",
       "      <th>upc</th>\n",
       "      <th>description</th>\n",
       "      <th>department</th>\n",
       "      <th>dept_name</th>\n",
       "      <th>year</th>\n",
       "      <th>month</th>\n",
       "      <th>sales</th>\n",
       "      <th>Items</th>\n",
       "      <th>trans</th>\n",
       "    </tr>\n",
       "  </thead>\n",
       "  <tbody>\n",
       "    <tr>\n",
       "      <th>0</th>\n",
       "      <td>0000000004220</td>\n",
       "      <td>COCKTAILS Fitz.OldFashioned</td>\n",
       "      <td>22.0</td>\n",
       "      <td>BEER &amp; WINE</td>\n",
       "      <td>2015</td>\n",
       "      <td>2</td>\n",
       "      <td>112.00</td>\n",
       "      <td>16</td>\n",
       "      <td>17</td>\n",
       "    </tr>\n",
       "    <tr>\n",
       "      <th>1</th>\n",
       "      <td>0020693200000</td>\n",
       "      <td>Smoked Wild Sockeye Salmon</td>\n",
       "      <td>16.0</td>\n",
       "      <td>FISH&amp;SEAFOOD</td>\n",
       "      <td>2014</td>\n",
       "      <td>8</td>\n",
       "      <td>272.79</td>\n",
       "      <td>55</td>\n",
       "      <td>50</td>\n",
       "    </tr>\n",
       "    <tr>\n",
       "      <th>2</th>\n",
       "      <td>77.67DP16</td>\n",
       "      <td>FISH&amp;SEAFOOD</td>\n",
       "      <td>16.0</td>\n",
       "      <td>FISH&amp;SEAFOOD</td>\n",
       "      <td>2012</td>\n",
       "      <td>5</td>\n",
       "      <td>77.67</td>\n",
       "      <td>1</td>\n",
       "      <td>1</td>\n",
       "    </tr>\n",
       "    <tr>\n",
       "      <th>3</th>\n",
       "      <td>0000000008028</td>\n",
       "      <td>Gift Card Added Value</td>\n",
       "      <td>15.0</td>\n",
       "      <td>MISC P/I</td>\n",
       "      <td>2013</td>\n",
       "      <td>11</td>\n",
       "      <td>1983.00</td>\n",
       "      <td>15</td>\n",
       "      <td>12</td>\n",
       "    </tr>\n",
       "    <tr>\n",
       "      <th>4</th>\n",
       "      <td>0020680400000</td>\n",
       "      <td>Nerka Coho Salmon Fillet</td>\n",
       "      <td>16.0</td>\n",
       "      <td>FISH&amp;SEAFOOD</td>\n",
       "      <td>2014</td>\n",
       "      <td>6</td>\n",
       "      <td>7002.76</td>\n",
       "      <td>584</td>\n",
       "      <td>553</td>\n",
       "    </tr>\n",
       "  </tbody>\n",
       "</table>\n",
       "</div>"
      ],
      "text/plain": [
       "             upc                  description  department     dept_name  year  \\\n",
       "0  0000000004220  COCKTAILS Fitz.OldFashioned        22.0   BEER & WINE  2015   \n",
       "1  0020693200000   Smoked Wild Sockeye Salmon        16.0  FISH&SEAFOOD  2014   \n",
       "2      77.67DP16                 FISH&SEAFOOD        16.0  FISH&SEAFOOD  2012   \n",
       "3  0000000008028        Gift Card Added Value        15.0      MISC P/I  2013   \n",
       "4  0020680400000     Nerka Coho Salmon Fillet        16.0  FISH&SEAFOOD  2014   \n",
       "\n",
       "   month    sales  Items  trans  \n",
       "0      2   112.00     16     17  \n",
       "1      8   272.79     55     50  \n",
       "2      5    77.67      1      1  \n",
       "3     11  1983.00     15     12  \n",
       "4      6  7002.76    584    553  "
      ]
     },
     "execution_count": 12,
     "metadata": {},
     "output_type": "execute_result"
    }
   ],
   "source": [
    "holder3 = pandas_gbq.read_gbq(query_3,project_id=gbq_proj_id,credentials=credentials)\n",
    "\n",
    "holder3.head()"
   ]
  },
  {
   "cell_type": "code",
   "execution_count": 14,
   "metadata": {},
   "outputs": [
    {
     "data": {
      "text/plain": [
       "1214088"
      ]
     },
     "execution_count": 14,
     "metadata": {},
     "output_type": "execute_result"
    }
   ],
   "source": [
    "holder3.to_sql(\"product_sales\",con,if_exists=\"replace\",index=False)"
   ]
  },
  {
   "cell_type": "code",
   "execution_count": 15,
   "metadata": {},
   "outputs": [],
   "source": [
    "con.close()"
   ]
  }
 ],
 "metadata": {
  "kernelspec": {
   "display_name": "Python 3",
   "language": "python",
   "name": "python3"
  },
  "language_info": {
   "codemirror_mode": {
    "name": "ipython",
    "version": 3
   },
   "file_extension": ".py",
   "mimetype": "text/x-python",
   "name": "python",
   "nbconvert_exporter": "python",
   "pygments_lexer": "ipython3",
   "version": "3.10.4"
  }
 },
 "nbformat": 4,
 "nbformat_minor": 2
}
